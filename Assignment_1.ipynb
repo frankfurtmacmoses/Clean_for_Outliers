{
  "nbformat": 4,
  "nbformat_minor": 0,
  "metadata": {
    "colab": {
      "provenance": [],
      "authorship_tag": "ABX9TyOZBmKfV9orLtQBG13WP59s",
      "include_colab_link": true
    },
    "kernelspec": {
      "name": "python3",
      "display_name": "Python 3"
    },
    "language_info": {
      "name": "python"
    }
  },
  "cells": [
    {
      "cell_type": "markdown",
      "metadata": {
        "id": "view-in-github",
        "colab_type": "text"
      },
      "source": [
        "<a href=\"https://colab.research.google.com/github/frankfurtmacmoses/statistics_for_big_data_assignments/blob/main/Assignment_1.ipynb\" target=\"_parent\"><img src=\"https://colab.research.google.com/assets/colab-badge.svg\" alt=\"Open In Colab\"/></a>"
      ]
    },
    {
      "cell_type": "code",
      "execution_count": 56,
      "metadata": {
        "colab": {
          "base_uri": "https://localhost:8080/",
          "height": 90
        },
        "id": "q7CkzYEvX68c",
        "outputId": "5b727f3d-48a7-4526-c926-aedc9cd09840"
      },
      "outputs": [
        {
          "output_type": "display_data",
          "data": {
            "text/plain": [
              "<IPython.core.display.HTML object>"
            ],
            "text/html": [
              "\n",
              "     <input type=\"file\" id=\"files-035829a1-76bd-4348-a7bd-be5fb2ba908e\" name=\"files[]\" multiple disabled\n",
              "        style=\"border:none\" />\n",
              "     <output id=\"result-035829a1-76bd-4348-a7bd-be5fb2ba908e\">\n",
              "      Upload widget is only available when the cell has been executed in the\n",
              "      current browser session. Please rerun this cell to enable.\n",
              "      </output>\n",
              "      <script>// Copyright 2017 Google LLC\n",
              "//\n",
              "// Licensed under the Apache License, Version 2.0 (the \"License\");\n",
              "// you may not use this file except in compliance with the License.\n",
              "// You may obtain a copy of the License at\n",
              "//\n",
              "//      http://www.apache.org/licenses/LICENSE-2.0\n",
              "//\n",
              "// Unless required by applicable law or agreed to in writing, software\n",
              "// distributed under the License is distributed on an \"AS IS\" BASIS,\n",
              "// WITHOUT WARRANTIES OR CONDITIONS OF ANY KIND, either express or implied.\n",
              "// See the License for the specific language governing permissions and\n",
              "// limitations under the License.\n",
              "\n",
              "/**\n",
              " * @fileoverview Helpers for google.colab Python module.\n",
              " */\n",
              "(function(scope) {\n",
              "function span(text, styleAttributes = {}) {\n",
              "  const element = document.createElement('span');\n",
              "  element.textContent = text;\n",
              "  for (const key of Object.keys(styleAttributes)) {\n",
              "    element.style[key] = styleAttributes[key];\n",
              "  }\n",
              "  return element;\n",
              "}\n",
              "\n",
              "// Max number of bytes which will be uploaded at a time.\n",
              "const MAX_PAYLOAD_SIZE = 100 * 1024;\n",
              "\n",
              "function _uploadFiles(inputId, outputId) {\n",
              "  const steps = uploadFilesStep(inputId, outputId);\n",
              "  const outputElement = document.getElementById(outputId);\n",
              "  // Cache steps on the outputElement to make it available for the next call\n",
              "  // to uploadFilesContinue from Python.\n",
              "  outputElement.steps = steps;\n",
              "\n",
              "  return _uploadFilesContinue(outputId);\n",
              "}\n",
              "\n",
              "// This is roughly an async generator (not supported in the browser yet),\n",
              "// where there are multiple asynchronous steps and the Python side is going\n",
              "// to poll for completion of each step.\n",
              "// This uses a Promise to block the python side on completion of each step,\n",
              "// then passes the result of the previous step as the input to the next step.\n",
              "function _uploadFilesContinue(outputId) {\n",
              "  const outputElement = document.getElementById(outputId);\n",
              "  const steps = outputElement.steps;\n",
              "\n",
              "  const next = steps.next(outputElement.lastPromiseValue);\n",
              "  return Promise.resolve(next.value.promise).then((value) => {\n",
              "    // Cache the last promise value to make it available to the next\n",
              "    // step of the generator.\n",
              "    outputElement.lastPromiseValue = value;\n",
              "    return next.value.response;\n",
              "  });\n",
              "}\n",
              "\n",
              "/**\n",
              " * Generator function which is called between each async step of the upload\n",
              " * process.\n",
              " * @param {string} inputId Element ID of the input file picker element.\n",
              " * @param {string} outputId Element ID of the output display.\n",
              " * @return {!Iterable<!Object>} Iterable of next steps.\n",
              " */\n",
              "function* uploadFilesStep(inputId, outputId) {\n",
              "  const inputElement = document.getElementById(inputId);\n",
              "  inputElement.disabled = false;\n",
              "\n",
              "  const outputElement = document.getElementById(outputId);\n",
              "  outputElement.innerHTML = '';\n",
              "\n",
              "  const pickedPromise = new Promise((resolve) => {\n",
              "    inputElement.addEventListener('change', (e) => {\n",
              "      resolve(e.target.files);\n",
              "    });\n",
              "  });\n",
              "\n",
              "  const cancel = document.createElement('button');\n",
              "  inputElement.parentElement.appendChild(cancel);\n",
              "  cancel.textContent = 'Cancel upload';\n",
              "  const cancelPromise = new Promise((resolve) => {\n",
              "    cancel.onclick = () => {\n",
              "      resolve(null);\n",
              "    };\n",
              "  });\n",
              "\n",
              "  // Wait for the user to pick the files.\n",
              "  const files = yield {\n",
              "    promise: Promise.race([pickedPromise, cancelPromise]),\n",
              "    response: {\n",
              "      action: 'starting',\n",
              "    }\n",
              "  };\n",
              "\n",
              "  cancel.remove();\n",
              "\n",
              "  // Disable the input element since further picks are not allowed.\n",
              "  inputElement.disabled = true;\n",
              "\n",
              "  if (!files) {\n",
              "    return {\n",
              "      response: {\n",
              "        action: 'complete',\n",
              "      }\n",
              "    };\n",
              "  }\n",
              "\n",
              "  for (const file of files) {\n",
              "    const li = document.createElement('li');\n",
              "    li.append(span(file.name, {fontWeight: 'bold'}));\n",
              "    li.append(span(\n",
              "        `(${file.type || 'n/a'}) - ${file.size} bytes, ` +\n",
              "        `last modified: ${\n",
              "            file.lastModifiedDate ? file.lastModifiedDate.toLocaleDateString() :\n",
              "                                    'n/a'} - `));\n",
              "    const percent = span('0% done');\n",
              "    li.appendChild(percent);\n",
              "\n",
              "    outputElement.appendChild(li);\n",
              "\n",
              "    const fileDataPromise = new Promise((resolve) => {\n",
              "      const reader = new FileReader();\n",
              "      reader.onload = (e) => {\n",
              "        resolve(e.target.result);\n",
              "      };\n",
              "      reader.readAsArrayBuffer(file);\n",
              "    });\n",
              "    // Wait for the data to be ready.\n",
              "    let fileData = yield {\n",
              "      promise: fileDataPromise,\n",
              "      response: {\n",
              "        action: 'continue',\n",
              "      }\n",
              "    };\n",
              "\n",
              "    // Use a chunked sending to avoid message size limits. See b/62115660.\n",
              "    let position = 0;\n",
              "    do {\n",
              "      const length = Math.min(fileData.byteLength - position, MAX_PAYLOAD_SIZE);\n",
              "      const chunk = new Uint8Array(fileData, position, length);\n",
              "      position += length;\n",
              "\n",
              "      const base64 = btoa(String.fromCharCode.apply(null, chunk));\n",
              "      yield {\n",
              "        response: {\n",
              "          action: 'append',\n",
              "          file: file.name,\n",
              "          data: base64,\n",
              "        },\n",
              "      };\n",
              "\n",
              "      let percentDone = fileData.byteLength === 0 ?\n",
              "          100 :\n",
              "          Math.round((position / fileData.byteLength) * 100);\n",
              "      percent.textContent = `${percentDone}% done`;\n",
              "\n",
              "    } while (position < fileData.byteLength);\n",
              "  }\n",
              "\n",
              "  // All done.\n",
              "  yield {\n",
              "    response: {\n",
              "      action: 'complete',\n",
              "    }\n",
              "  };\n",
              "}\n",
              "\n",
              "scope.google = scope.google || {};\n",
              "scope.google.colab = scope.google.colab || {};\n",
              "scope.google.colab._files = {\n",
              "  _uploadFiles,\n",
              "  _uploadFilesContinue,\n",
              "};\n",
              "})(self);\n",
              "</script> "
            ]
          },
          "metadata": {}
        },
        {
          "output_type": "stream",
          "name": "stdout",
          "text": [
            "Saving kaggle.json to kaggle (1).json\n"
          ]
        },
        {
          "output_type": "execute_result",
          "data": {
            "text/plain": [
              "{'kaggle (1).json': b'{\"username\":\"frankfurt\",\"key\":\"0486f407b3ce3583f098ac48742f1872\"}'}"
            ]
          },
          "metadata": {},
          "execution_count": 56
        }
      ],
      "source": [
        "from google.colab import files\n",
        "files.upload()\n"
      ]
    },
    {
      "cell_type": "code",
      "source": [
        "!pip install -q kaggle\n",
        "!mkdir -p ~/.kaggle\n",
        "!cp kaggle.json ~/.kaggle/\n",
        "!chmod 600 ~/.kaggle/kaggle.json\n"
      ],
      "metadata": {
        "id": "P7UrOgYmYRAz"
      },
      "execution_count": 57,
      "outputs": []
    },
    {
      "cell_type": "code",
      "source": [
        "from google.colab import drive\n",
        "drive.mount('/content/drive')\n"
      ],
      "metadata": {
        "colab": {
          "base_uri": "https://localhost:8080/"
        },
        "id": "aFDe2ifxYYEL",
        "outputId": "18c943e5-2cce-47ee-a5bb-85182d96baf3"
      },
      "execution_count": 58,
      "outputs": [
        {
          "output_type": "stream",
          "name": "stdout",
          "text": [
            "Drive already mounted at /content/drive; to attempt to forcibly remount, call drive.mount(\"/content/drive\", force_remount=True).\n"
          ]
        }
      ]
    },
    {
      "cell_type": "code",
      "source": [
        "!kaggle competitions download -c house-prices-advanced-regression-techniques"
      ],
      "metadata": {
        "colab": {
          "base_uri": "https://localhost:8080/"
        },
        "id": "up4ME9MuYiKj",
        "outputId": "f720d174-2984-4a13-bfe0-52bc4489892e"
      },
      "execution_count": 15,
      "outputs": [
        {
          "output_type": "stream",
          "name": "stdout",
          "text": [
            "Downloading house-prices-advanced-regression-techniques.zip to /content\n",
            "\r  0% 0.00/199k [00:00<?, ?B/s]\n",
            "\r100% 199k/199k [00:00<00:00, 61.6MB/s]\n"
          ]
        }
      ]
    },
    {
      "cell_type": "code",
      "source": [
        "!ls /content"
      ],
      "metadata": {
        "colab": {
          "base_uri": "https://localhost:8080/"
        },
        "id": "99hhU7HX2FKo",
        "outputId": "713f13d6-2757-46bc-b86e-8012463bafd5"
      },
      "execution_count": 59,
      "outputs": [
        {
          "output_type": "stream",
          "name": "stdout",
          "text": [
            " drive\t\t\t\t\t\t  'kaggle (1).json'   sample_data\n",
            " house-prices-advanced-regression-techniques.zip   kaggle.json\n"
          ]
        }
      ]
    },
    {
      "cell_type": "code",
      "source": [
        "!pwd"
      ],
      "metadata": {
        "colab": {
          "base_uri": "https://localhost:8080/"
        },
        "id": "J-PvoCx12wSv",
        "outputId": "a74e0c75-35ed-4156-efc8-e01ed0422d9a"
      },
      "execution_count": 7,
      "outputs": [
        {
          "output_type": "stream",
          "name": "stdout",
          "text": [
            "/content\n"
          ]
        }
      ]
    },
    {
      "cell_type": "code",
      "source": [
        "!mkdir /content/drive/MyDrive/kaggle_data\n"
      ],
      "metadata": {
        "id": "qQRtHbw3YcyM",
        "colab": {
          "base_uri": "https://localhost:8080/"
        },
        "outputId": "2d43845a-c181-48a1-d569-992301716bca"
      },
      "execution_count": 16,
      "outputs": [
        {
          "output_type": "stream",
          "name": "stdout",
          "text": [
            "mkdir: cannot create directory ‘/content/drive/MyDrive/kaggle_data’: File exists\n"
          ]
        }
      ]
    },
    {
      "cell_type": "code",
      "source": [
        "!unzip /content/house-prices-advanced-regression-techniques.zip -d /content/drive/MyDrive/kaggle_data/"
      ],
      "metadata": {
        "colab": {
          "base_uri": "https://localhost:8080/"
        },
        "id": "m-PEa3np3NCH",
        "outputId": "a7137b58-3504-4c6f-8a52-b44cb400e6be"
      },
      "execution_count": 17,
      "outputs": [
        {
          "output_type": "stream",
          "name": "stdout",
          "text": [
            "Archive:  /content/house-prices-advanced-regression-techniques.zip\n",
            "replace /content/drive/MyDrive/kaggle_data/data_description.txt? [y]es, [n]o, [A]ll, [N]one, [r]ename: "
          ]
        }
      ]
    },
    {
      "cell_type": "code",
      "source": [
        "\n"
      ],
      "metadata": {
        "id": "Jb7cDuuM5_Ck"
      },
      "execution_count": 17,
      "outputs": []
    },
    {
      "cell_type": "code",
      "source": [
        "import pandas as pd\n",
        "\n",
        "train_source = pd.read_csv('/content/drive/MyDrive/kaggle_data/train.csv')\n",
        "size = train_source.size\n",
        "#dim = test_source.shape\n",
        "info = train_source.info\n",
        "print(f\"Number of rows in this dataset is: {size}\",sep=\"\")\n",
        "print(f\"Below is the dataset information: {info}\",sep=\"\")\n"
      ],
      "metadata": {
        "colab": {
          "base_uri": "https://localhost:8080/"
        },
        "id": "hCb2bH1n7q6t",
        "outputId": "61b2b156-6a97-494a-c25e-00a8eacca748"
      },
      "execution_count": 60,
      "outputs": [
        {
          "output_type": "stream",
          "name": "stdout",
          "text": [
            "Number of rows in this dataset is: 118260\n",
            "Below is the dataset information: <bound method DataFrame.info of         Id  MSSubClass MSZoning  LotFrontage  LotArea Street Alley LotShape  \\\n",
            "0        1          60       RL         65.0     8450   Pave   NaN      Reg   \n",
            "1        2          20       RL         80.0     9600   Pave   NaN      Reg   \n",
            "2        3          60       RL         68.0    11250   Pave   NaN      IR1   \n",
            "3        4          70       RL         60.0     9550   Pave   NaN      IR1   \n",
            "4        5          60       RL         84.0    14260   Pave   NaN      IR1   \n",
            "...    ...         ...      ...          ...      ...    ...   ...      ...   \n",
            "1455  1456          60       RL         62.0     7917   Pave   NaN      Reg   \n",
            "1456  1457          20       RL         85.0    13175   Pave   NaN      Reg   \n",
            "1457  1458          70       RL         66.0     9042   Pave   NaN      Reg   \n",
            "1458  1459          20       RL         68.0     9717   Pave   NaN      Reg   \n",
            "1459  1460          20       RL         75.0     9937   Pave   NaN      Reg   \n",
            "\n",
            "     LandContour Utilities  ... PoolArea PoolQC  Fence MiscFeature MiscVal  \\\n",
            "0            Lvl    AllPub  ...        0    NaN    NaN         NaN       0   \n",
            "1            Lvl    AllPub  ...        0    NaN    NaN         NaN       0   \n",
            "2            Lvl    AllPub  ...        0    NaN    NaN         NaN       0   \n",
            "3            Lvl    AllPub  ...        0    NaN    NaN         NaN       0   \n",
            "4            Lvl    AllPub  ...        0    NaN    NaN         NaN       0   \n",
            "...          ...       ...  ...      ...    ...    ...         ...     ...   \n",
            "1455         Lvl    AllPub  ...        0    NaN    NaN         NaN       0   \n",
            "1456         Lvl    AllPub  ...        0    NaN  MnPrv         NaN       0   \n",
            "1457         Lvl    AllPub  ...        0    NaN  GdPrv        Shed    2500   \n",
            "1458         Lvl    AllPub  ...        0    NaN    NaN         NaN       0   \n",
            "1459         Lvl    AllPub  ...        0    NaN    NaN         NaN       0   \n",
            "\n",
            "     MoSold YrSold  SaleType  SaleCondition  SalePrice  \n",
            "0         2   2008        WD         Normal     208500  \n",
            "1         5   2007        WD         Normal     181500  \n",
            "2         9   2008        WD         Normal     223500  \n",
            "3         2   2006        WD        Abnorml     140000  \n",
            "4        12   2008        WD         Normal     250000  \n",
            "...     ...    ...       ...            ...        ...  \n",
            "1455      8   2007        WD         Normal     175000  \n",
            "1456      2   2010        WD         Normal     210000  \n",
            "1457      5   2010        WD         Normal     266500  \n",
            "1458      4   2010        WD         Normal     142125  \n",
            "1459      6   2008        WD         Normal     147500  \n",
            "\n",
            "[1460 rows x 81 columns]>\n"
          ]
        }
      ]
    },
    {
      "cell_type": "code",
      "source": [
        "col_list = train_source.columns\n",
        "\n",
        "train_sorted = train_source.sort_values(by=list(col_list),  ascending=True)\n"
      ],
      "metadata": {
        "id": "0_gj8HlN3xF9"
      },
      "execution_count": 61,
      "outputs": []
    },
    {
      "cell_type": "code",
      "source": [],
      "metadata": {
        "id": "qOEAkwp46E7S"
      },
      "execution_count": null,
      "outputs": []
    },
    {
      "cell_type": "code",
      "source": [
        "col_lotarea = train_sorted['LotArea']\n",
        "#col_lotarea.head(5)\n",
        "\n"
      ],
      "metadata": {
        "colab": {
          "base_uri": "https://localhost:8080/",
          "height": 241
        },
        "id": "hPnP2rFSBfx_",
        "outputId": "1f68f266-2c28-41b7-90c6-f873883fca14"
      },
      "execution_count": 62,
      "outputs": [
        {
          "output_type": "execute_result",
          "data": {
            "text/plain": [
              "0     8450\n",
              "1     9600\n",
              "2    11250\n",
              "3     9550\n",
              "4    14260\n",
              "Name: LotArea, dtype: int64"
            ],
            "text/html": [
              "<div>\n",
              "<style scoped>\n",
              "    .dataframe tbody tr th:only-of-type {\n",
              "        vertical-align: middle;\n",
              "    }\n",
              "\n",
              "    .dataframe tbody tr th {\n",
              "        vertical-align: top;\n",
              "    }\n",
              "\n",
              "    .dataframe thead th {\n",
              "        text-align: right;\n",
              "    }\n",
              "</style>\n",
              "<table border=\"1\" class=\"dataframe\">\n",
              "  <thead>\n",
              "    <tr style=\"text-align: right;\">\n",
              "      <th></th>\n",
              "      <th>LotArea</th>\n",
              "    </tr>\n",
              "  </thead>\n",
              "  <tbody>\n",
              "    <tr>\n",
              "      <th>0</th>\n",
              "      <td>8450</td>\n",
              "    </tr>\n",
              "    <tr>\n",
              "      <th>1</th>\n",
              "      <td>9600</td>\n",
              "    </tr>\n",
              "    <tr>\n",
              "      <th>2</th>\n",
              "      <td>11250</td>\n",
              "    </tr>\n",
              "    <tr>\n",
              "      <th>3</th>\n",
              "      <td>9550</td>\n",
              "    </tr>\n",
              "    <tr>\n",
              "      <th>4</th>\n",
              "      <td>14260</td>\n",
              "    </tr>\n",
              "  </tbody>\n",
              "</table>\n",
              "</div><br><label><b>dtype:</b> int64</label>"
            ]
          },
          "metadata": {},
          "execution_count": 62
        }
      ]
    },
    {
      "cell_type": "code",
      "source": [
        "from numpy import percentile\n",
        "\n",
        "data_min,data_mean, data_median, data_max = col_lotarea.min(),col_lotarea.mean,col_lotarea.median,col_lotarea.max()\n",
        "\n",
        "my_quartiles = percentile(col_lotarea,[25,50,75])\n",
        "\n",
        "print(f'min: {data_min}')\n",
        "print(f'Q1: {my_quartiles[0]}')\n",
        "print(f'median: {my_quartiles[1]}')\n",
        "print(f'Q3: {my_quartiles[2]}')\n",
        "print(f'max: {data_max}')\n",
        "\n",
        "IQR  = my_quartiles[2] - my_quartiles[0]\n",
        "\n",
        "lower_range = my_quartiles[0] - (1.5 * IQR)\n",
        "upper_range = my_quartiles[2] + (1.5 * IQR)\n",
        "\n",
        "print(f'IQR: {IQR}')\n",
        "print(f'lower_range: {lower_range}')\n",
        "print(f'upper_range: {upper_range}')\n",
        "\n",
        "\n",
        "\n"
      ],
      "metadata": {
        "colab": {
          "base_uri": "https://localhost:8080/"
        },
        "id": "H_orMlscCka4",
        "outputId": "396c0a81-1f48-4493-f835-be468979374e"
      },
      "execution_count": 63,
      "outputs": [
        {
          "output_type": "stream",
          "name": "stdout",
          "text": [
            "min: 1300\n",
            "Q1: 7553.5\n",
            "median: 9478.5\n",
            "Q3: 11601.5\n",
            "max: 215245\n",
            "IQR: 4048.0\n",
            "lower_range: 1481.5\n",
            "upper_range: 17673.5\n"
          ]
        }
      ]
    },
    {
      "cell_type": "code",
      "source": [
        "## filtering out outliers from the \"LotArea\" column of the dataset:\n",
        "\n",
        "outliers = train_sorted[(train_sorted[\"LotArea\"] < IQR) | (train_sorted[\"LotArea\"] > IQR)]\n",
        "\n",
        "print(f'These are all my outliers points: {outliers[\"LotArea\"]}')\n",
        "lot_area_series = outliers['LotArea']\n",
        "lot_area_series.head(4)\n"
      ],
      "metadata": {
        "colab": {
          "base_uri": "https://localhost:8080/",
          "height": 418
        },
        "id": "IndqAEaxNLFF",
        "outputId": "96a91d1b-0964-42f4-b1bc-6a2779bc1145"
      },
      "execution_count": 84,
      "outputs": [
        {
          "output_type": "stream",
          "name": "stdout",
          "text": [
            "These are all my outliers points: 0        8450\n",
            "1        9600\n",
            "2       11250\n",
            "3        9550\n",
            "4       14260\n",
            "        ...  \n",
            "1455     7917\n",
            "1456    13175\n",
            "1457     9042\n",
            "1458     9717\n",
            "1459     9937\n",
            "Name: LotArea, Length: 1460, dtype: int64\n"
          ]
        },
        {
          "output_type": "execute_result",
          "data": {
            "text/plain": [
              "0     8450\n",
              "1     9600\n",
              "2    11250\n",
              "3     9550\n",
              "Name: LotArea, dtype: int64"
            ],
            "text/html": [
              "<div>\n",
              "<style scoped>\n",
              "    .dataframe tbody tr th:only-of-type {\n",
              "        vertical-align: middle;\n",
              "    }\n",
              "\n",
              "    .dataframe tbody tr th {\n",
              "        vertical-align: top;\n",
              "    }\n",
              "\n",
              "    .dataframe thead th {\n",
              "        text-align: right;\n",
              "    }\n",
              "</style>\n",
              "<table border=\"1\" class=\"dataframe\">\n",
              "  <thead>\n",
              "    <tr style=\"text-align: right;\">\n",
              "      <th></th>\n",
              "      <th>LotArea</th>\n",
              "    </tr>\n",
              "  </thead>\n",
              "  <tbody>\n",
              "    <tr>\n",
              "      <th>0</th>\n",
              "      <td>8450</td>\n",
              "    </tr>\n",
              "    <tr>\n",
              "      <th>1</th>\n",
              "      <td>9600</td>\n",
              "    </tr>\n",
              "    <tr>\n",
              "      <th>2</th>\n",
              "      <td>11250</td>\n",
              "    </tr>\n",
              "    <tr>\n",
              "      <th>3</th>\n",
              "      <td>9550</td>\n",
              "    </tr>\n",
              "  </tbody>\n",
              "</table>\n",
              "</div><br><label><b>dtype:</b> int64</label>"
            ]
          },
          "metadata": {},
          "execution_count": 84
        }
      ]
    },
    {
      "cell_type": "code",
      "source": [],
      "metadata": {
        "id": "xngTN_WDVHcd"
      },
      "execution_count": null,
      "outputs": []
    },
    {
      "cell_type": "code",
      "source": [
        "%%capture\n",
        "!python -m pip install plotnine\n"
      ],
      "metadata": {
        "id": "4QZHz-jGRe99"
      },
      "execution_count": 94,
      "outputs": []
    },
    {
      "cell_type": "code",
      "source": [
        "from plotnine import ggplot, aes, geom_line,geom_boxplot,ggtitle,geom_point,geom_density\n",
        "## Convert outliers points to dataframe\n",
        "outlier_points = lot_area_series.to_frame()\n",
        "\n",
        "#plot = ( ggplot(train_sorted,aes(y='LotArea',x=1))+geom_boxplot() + geom_boxplot(width=1))\n",
        "plot = (ggplot(train_sorted, aes(y='LotArea', x=1)) +\n",
        "        geom_boxplot(fill='blue', color='green', width=1) +  ggtitle('Boxplot of LotArea with Outliers Highlighted'))\n",
        "\n",
        "\n",
        "\n",
        "plot.show()"
      ],
      "metadata": {
        "colab": {
          "base_uri": "https://localhost:8080/",
          "height": 497
        },
        "id": "CmQkTG1AXNfu",
        "outputId": "544aa263-2e6e-4667-ce72-3f5ffdf9e01b"
      },
      "execution_count": 91,
      "outputs": [
        {
          "output_type": "display_data",
          "data": {
            "image/png": "[encoded data removed]"
          },
          "metadata": {
            "image/png": {
              "width": 640,
              "height": 480
            }
          }
        }
      ]
    },
    {
      "cell_type": "code",
      "source": [
        "plot = (ggplot(outlier_points, aes(x='LotArea')) +\n",
        "        geom_density(fill='blue', alpha=0.5) +  # Add density plot with blue fill\n",
        "        ggtitle('Density Plot of Outliers')  # Add title\n",
        "       )\n",
        "\n",
        "plot.show()"
      ],
      "metadata": {
        "colab": {
          "base_uri": "https://localhost:8080/",
          "height": 497
        },
        "id": "CiWgOa4-yBF3",
        "outputId": "d28296e4-a5d6-480a-9922-4ab041dd354e"
      },
      "execution_count": 93,
      "outputs": [
        {
          "output_type": "display_data",
          "data": {
            "image/png": "[encoded data removed]"
          },
          "metadata": {
            "image/png": {
              "width": 640,
              "height": 480
            }
          }
        }
      ]
    },
    {
      "cell_type": "markdown",
      "source": [
        "The outliers is skewed towards the minimum value and Q1. The data has a lot of outliers which can affect the result."
      ],
      "metadata": {
        "id": "u1osF6Qrysmj"
      }
    }
  ]
}